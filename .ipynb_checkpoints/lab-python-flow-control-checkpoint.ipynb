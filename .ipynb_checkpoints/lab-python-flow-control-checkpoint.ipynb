{
 "cells": [
  {
   "cell_type": "markdown",
   "id": "d3bfc191-8885-42ee-b0a0-bbab867c6f9f",
   "metadata": {
    "tags": []
   },
   "source": [
    "# Lab | Flow Control"
   ]
  },
  {
   "cell_type": "markdown",
   "id": "3851fcd1-cf98-4653-9c89-e003b7ec9400",
   "metadata": {},
   "source": [
    "## Exercise: Managing Customer Orders Optimized\n",
    "\n",
    "In the last lab, you were starting an online store that sells various products. To ensure smooth operations, you developed a program that manages customer orders and inventory.\n",
    "\n",
    "You did so without using flow control. Let's go a step further and improve this code.\n",
    "\n",
    "Follow the steps below to complete the exercise:\n",
    "\n",
    "1. Look at your code from the lab data structures, and improve repeated code with loops.\n",
    "\n",
    "2. Instead of asking the user to input the name of three products that a customer wants to order, do the following:\n",
    "    \n",
    "    a. Prompt the user to enter the name of a product that a customer wants to order.\n",
    "    \n",
    "    b. Add the product name to the \"customer_orders\" set.\n",
    "    \n",
    "    c. Ask the user if they want to add another product (yes/no).\n",
    "    \n",
    "    d. Continue the loop until the user does not want to add another product.\n",
    "\n",
    "3. Instead of updating the inventory by subtracting 1 from the quantity of each product, only do it for  the products that were ordered (those in \"customer_orders\")."
   ]
  },
  {
   "cell_type": "code",
   "execution_count": 12,
   "id": "e93e7051-4ff8-49a2-b00d-29efea46a5c5",
   "metadata": {},
   "outputs": [],
   "source": [
    "products = [\"t-shirt\", \"mug\", \"hat\", \"book\", \"keychain\"]"
   ]
  },
  {
   "cell_type": "code",
   "execution_count": 14,
   "id": "8eafca39-707b-48dc-8acb-0ad579e9b7aa",
   "metadata": {},
   "outputs": [],
   "source": [
    "inventory = {}"
   ]
  },
  {
   "cell_type": "code",
   "execution_count": 16,
   "id": "14a91156-d5a9-41b2-a2a1-08798ef23349",
   "metadata": {},
   "outputs": [
    {
     "name": "stdout",
     "output_type": "stream",
     "text": [
      "Enter the quantity for each product:\n"
     ]
    }
   ],
   "source": [
    "print(\"Enter the quantity for each product:\")"
   ]
  },
  {
   "cell_type": "code",
   "execution_count": 20,
   "id": "07700e9f-c839-4acc-9086-6043daddce9d",
   "metadata": {},
   "outputs": [
    {
     "name": "stdin",
     "output_type": "stream",
     "text": [
      "Quantity for t-shirt:  60\n",
      "Quantity for mug:  60\n",
      "Quantity for hat:  6\n",
      "Quantity for book:  60\n",
      "Quantity for keychain:  60\n"
     ]
    }
   ],
   "source": [
    "for product in products:\n",
    "    quantity = int(input(f\"Quantity for {product}: \"))\n",
    "    inventory[product] = quantity"
   ]
  },
  {
   "cell_type": "code",
   "execution_count": 22,
   "id": "c74b63fa-9acf-4308-82a4-cf85f67358d7",
   "metadata": {},
   "outputs": [],
   "source": [
    "customer_orders = set()"
   ]
  },
  {
   "cell_type": "code",
   "execution_count": 24,
   "id": "b5397f68-688e-445d-b561-d4cce3c5e8a2",
   "metadata": {},
   "outputs": [
    {
     "name": "stdin",
     "output_type": "stream",
     "text": [
      "Enter the name of a product to order (from t-shirt, mug, hat, book, keychain):  hat\n",
      "Do you want to add another product? (yes/no):  yes\n",
      "Enter the name of a product to order (from t-shirt, mug, hat, book, keychain):  book\n",
      "Do you want to add another product? (yes/no):  no\n"
     ]
    }
   ],
   "source": [
    "while True:\n",
    "    order = input(\"Enter the name of a product to order (from t-shirt, mug, hat, book, keychain): \")\n",
    "    if order in products:\n",
    "        customer_orders.add(order)\n",
    "    else:\n",
    "        print(\"Invalid product name. Please enter a valid product from the list.\")\n",
    "    \n",
    "    another = input(\"Do you want to add another product? (yes/no): \").lower()\n",
    "    if another != \"yes\":\n",
    "        break"
   ]
  },
  {
   "cell_type": "code",
   "execution_count": 26,
   "id": "f556b174-8dce-444d-87e2-20553e47997b",
   "metadata": {},
   "outputs": [
    {
     "name": "stdout",
     "output_type": "stream",
     "text": [
      "\n",
      "Customer Orders:\n",
      "{'book', 'hat'}\n"
     ]
    }
   ],
   "source": [
    "print(\"\\nCustomer Orders:\")\n",
    "print(customer_orders)"
   ]
  },
  {
   "cell_type": "code",
   "execution_count": 28,
   "id": "4fa644c9-d2eb-4bb4-b456-c25fb35e4584",
   "metadata": {},
   "outputs": [],
   "source": [
    "total_products_ordered = len(customer_orders)\n",
    "percentage_ordered = (total_products_ordered / len(products)) * 100\n",
    "order_status = (total_products_ordered, percentage_ordered)"
   ]
  },
  {
   "cell_type": "code",
   "execution_count": 30,
   "id": "979d8d55-89ba-499d-8ddf-74a5501a3287",
   "metadata": {},
   "outputs": [],
   "source": [
    "for order in customer_orders:\n",
    "    if inventory[order] > 0:\n",
    "        inventory[order] -= 1"
   ]
  },
  {
   "cell_type": "code",
   "execution_count": 32,
   "id": "2c555887-65a1-42b3-908d-2442d391aacd",
   "metadata": {},
   "outputs": [
    {
     "name": "stdout",
     "output_type": "stream",
     "text": [
      "\n",
      "Updated Inventory:\n",
      "t-shirt: 60\n",
      "mug: 60\n",
      "hat: 5\n",
      "book: 59\n",
      "keychain: 60\n"
     ]
    }
   ],
   "source": [
    "print(\"\\nUpdated Inventory:\")\n",
    "for product, quantity in inventory.items():\n",
    "    print(f\"{product}: {quantity}\")\n"
   ]
  }
 ],
 "metadata": {
  "kernelspec": {
   "display_name": "Python 3 (ipykernel)",
   "language": "python",
   "name": "python3"
  },
  "language_info": {
   "codemirror_mode": {
    "name": "ipython",
    "version": 3
   },
   "file_extension": ".py",
   "mimetype": "text/x-python",
   "name": "python",
   "nbconvert_exporter": "python",
   "pygments_lexer": "ipython3",
   "version": "3.12.4"
  }
 },
 "nbformat": 4,
 "nbformat_minor": 5
}
